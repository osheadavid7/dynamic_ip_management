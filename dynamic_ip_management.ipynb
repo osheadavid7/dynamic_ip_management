{
 "cells": [
  {
   "cell_type": "code",
   "execution_count": null,
   "metadata": {
    "collapsed": true
   },
   "outputs": [],
   "source": [
    "from urllib2 import urlopen\n",
    "import os as os"
   ]
  },
  {
   "cell_type": "code",
   "execution_count": null,
   "metadata": {
    "collapsed": true
   },
   "outputs": [],
   "source": [
    "## Function Definitions\n",
    "\n",
    "def StringToDictionary(row_data):\n",
    "  result = {}\n",
    "  for param in row_data.split():\n",
    "    name, value = param.split('=')\n",
    "    result[name] = value\n",
    "  return result\n",
    "\n",
    "def load():\n",
    "  import gdata.spreadsheet.service\n",
    "  gd_client = gdata.spreadsheet.service.SpreadsheetsService()\n",
    "  gd_client.email = USERNAME\n",
    "  gd_client.password = PASSWD\n",
    "  gd_client.ProgrammaticLogin()\n",
    "  return gd_client\n",
    "\n",
    "def updateIP(ip):\n",
    "  import time,string\n",
    "  gd_client = load()\n",
    "  docs= gd_client.GetSpreadsheetsFeed()\n",
    "  spreads = []\n",
    "  for i in docs.entry: spreads.append(i.title.text)\n",
    "  spread_number = None\n",
    "  for i,j in enumerate(spreads):\n",
    "    if j == SPREADSHEET_NAME: spread_number = i\n",
    "  if spread_number == None:\n",
    "    return 0\n",
    "\n",
    "  key = docs.entry[spread_number].id.text.rsplit('/', 1)[1]\n",
    "  feed = gd_client.GetWorksheetsFeed(key)\n",
    "  wksht_id = feed.entry[0].id.text.rsplit('/', 1)[1]\n",
    "  feed = gd_client.GetListFeed(key,wksht_id)\n",
    "  thetime = time.strftime('%I:%M%p')\n",
    "  thedate = time.strftime('%m/%d/%y')\n",
    "  entry = gd_client.InsertRow(StringToDictionary('date='+thedate+' time='+thetime+' ip='+ip),key,wksht_id)\n",
    "  return 1\n"
   ]
  },
  {
   "cell_type": "code",
   "execution_count": null,
   "metadata": {
    "collapsed": false
   },
   "outputs": [],
   "source": [
    "my_ip = urlopen('http://ip.42.pl/raw').read()\n",
    "print(my_ip)"
   ]
  },
  {
   "cell_type": "code",
   "execution_count": null,
   "metadata": {
    "collapsed": false
   },
   "outputs": [],
   "source": [
    "home = os.path.expanduser(\"~\")+'/'# trailing slash required!\n",
    "print(home)"
   ]
  },
  {
   "cell_type": "code",
   "execution_count": null,
   "metadata": {
    "collapsed": true
   },
   "outputs": [],
   "source": [
    "USERNAME = 'your_username_here' # google/gmail login id\n",
    "PASSWD = 'your_password_here' # google/gmail login password"
   ]
  },
  {
   "cell_type": "code",
   "execution_count": null,
   "metadata": {
    "collapsed": true
   },
   "outputs": [],
   "source": [
    "SPREADSHEET_NAME = 'MyHomeIP' # google documents spreadsheet name\n",
    "BASE_DIR = home # Base Directory to locally save your IP info\n",
    "\n",
    "IP_WEBSITE = 'www.whatismyip.org'"
   ]
  },
  {
   "cell_type": "code",
   "execution_count": null,
   "metadata": {
    "collapsed": true
   },
   "outputs": [],
   "source": [
    "## Executed Code\n",
    "\n",
    "if os.path.exists(BASE_DIR+'CheckIP'): os.remove(BASE_DIR+'CheckIP')\n",
    "os.system('wget '+IP_WEBSITE+' -t 2 --output-document='+BASE_DIR+'CheckIP')\n",
    "fh2 = open(BASE_DIR+'CheckIP','r')\n",
    "ip2 = fh2.read()\n",
    "fh2.close()\n",
    "\n",
    "if os.path.exists(BASE_DIR+'CurrentIP'):\n",
    "  fh1 = open(BASE_DIR+'CurrentIP','r')\n",
    "  ip1 = fh1.read()\n",
    "  fh1.close()\n",
    "else:\n",
    "  ip1 = ''\n",
    "\n",
    "\n",
    "\n",
    "if ip1 == ip2: pass\n",
    "else:\n",
    "  res = updateIP(ip2)\n",
    "  if res == 0: raise 'Please Create a Spreadsheet named \\''+SPREADSHEET_NAME+'\\' in googleDocs.'\n",
    "  else:\n",
    "    fh = open(BASE_DIR+'CurrentIP','w')\n",
    "    fh.write(ip2)\n",
    "    fh.close()"
   ]
  }
 ],
 "metadata": {
  "kernelspec": {
   "display_name": "Python 2",
   "language": "python",
   "name": "python2"
  },
  "language_info": {
   "codemirror_mode": {
    "name": "ipython",
    "version": 2
   },
   "file_extension": ".py",
   "mimetype": "text/x-python",
   "name": "python",
   "nbconvert_exporter": "python",
   "pygments_lexer": "ipython2",
   "version": "2.7.10"
  }
 },
 "nbformat": 4,
 "nbformat_minor": 0
}
