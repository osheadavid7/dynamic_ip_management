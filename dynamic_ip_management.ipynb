{
 "cells": [
  {
   "cell_type": "code",
   "execution_count": 1,
   "metadata": {
    "collapsed": true
   },
   "outputs": [],
   "source": [
    "#google drive stuff\n",
    "from pydrive.auth import GoogleAuth\n",
    "from pydrive.drive import GoogleDrive\n",
    "\n",
    "#for dataframe and csv creation/updating\n",
    "import pandas as pd\n",
    "\n",
    "#time info\n",
    "import time\n",
    "\n",
    "#uname info\n",
    "import os\n",
    "import pwd\n",
    "\n",
    "#ip info\n",
    "from urllib2 import urlopen"
   ]
  },
  {
   "cell_type": "code",
   "execution_count": 2,
   "metadata": {
    "collapsed": true
   },
   "outputs": [],
   "source": [
    "#################################\n",
    "#functions\n",
    "\n",
    "def get_username():\n",
    "    return pwd.getpwuid( os.getuid() )[ 0 ]"
   ]
  },
  {
   "cell_type": "code",
   "execution_count": 3,
   "metadata": {
    "collapsed": false
   },
   "outputs": [],
   "source": [
    "#################################\n",
    "#Create/load authentication files\n",
    "\n",
    "gauth = GoogleAuth()\n",
    "# Try to load saved client credentials\n",
    "gauth.LoadCredentialsFile(\"mycreds.txt\")\n",
    "if gauth.credentials is None:\n",
    "    # Authenticate if they're not there\n",
    "    gauth.LocalWebserverAuth()\n",
    "elif gauth.access_token_expired:\n",
    "    # Refresh them if expired\n",
    "    gauth.Refresh()\n",
    "else:\n",
    "    # Initialize the saved creds\n",
    "    gauth.Authorize()\n",
    "# Save the current credentials to a file\n",
    "gauth.SaveCredentialsFile(\"mycreds.txt\")\n",
    "\n",
    "drive = GoogleDrive(gauth)"
   ]
  },
  {
   "cell_type": "code",
   "execution_count": 4,
   "metadata": {
    "collapsed": true
   },
   "outputs": [],
   "source": [
    "######################\n",
    "#name of data file\n",
    "ip_file = 'test'"
   ]
  },
  {
   "cell_type": "code",
   "execution_count": 5,
   "metadata": {
    "collapsed": true
   },
   "outputs": [],
   "source": [
    "##################################\n",
    "#Check if file id exits and download.\n",
    "#If file does not exist, create it.\n"
   ]
  },
  {
   "cell_type": "code",
   "execution_count": 6,
   "metadata": {
    "collapsed": false
   },
   "outputs": [
    {
     "name": "stdout",
     "output_type": "stream",
     "text": [
      "File exists\n"
     ]
    }
   ],
   "source": [
    "if os.path.isfile('gfile_id'):\n",
    "    #id file exists\n",
    "    print('File exists')\n",
    "    \n",
    "    #get id\n",
    "    check_id = open('gfile_id', 'r')\n",
    "    file_id=check_id.read().decode('utf8')\n",
    "    \n",
    "    #init with id\n",
    "    gfile = drive.CreateFile({'id': file_id})\n",
    "    \n",
    "    #download\n",
    "    gfile.GetContentFile(ip_file+'.csv')\n",
    "    \n",
    "    #load df\n",
    "    df = pd.read_csv(ip_file+'.csv',index_col=0)\n",
    "    \n",
    "else:\n",
    "    print('Create file')\n",
    "    ############################\n",
    "    #Crate dataframe\n",
    "    df = pd.DataFrame(columns=['time_stamp', 'machine','os', 'user', 'ip'])\n",
    "    \n",
    "    #create file\n",
    "    gfile = drive.CreateFile({'title':ip_file+'.csv', 'mimeType':'text/csv'})\n",
    "    gfile.Upload()\n",
    "    \n",
    "    #save file id for next time\n",
    "    foo = gfile['id']\n",
    "    f_id = open('gfile_id', 'w')\n",
    "    f_id.write(foo.encode('utf8'))\n",
    "    f_id.close()"
   ]
  },
  {
   "cell_type": "code",
   "execution_count": 7,
   "metadata": {
    "collapsed": false
   },
   "outputs": [],
   "source": [
    "############################\n",
    "#get updated info\n",
    "\n",
    "uname_info = os.uname()\n",
    "\n",
    "time_stamp_temp=time.strftime(\"%Y-%m-%d %H:%M:%S\", time.gmtime())\n",
    "machine_temp = uname_info[1]\n",
    "os_temp = uname_info[2]\n",
    "user_temp = get_username()\n",
    "ip_temp = urlopen('http://ip.42.pl/raw').read()\n",
    "\n",
    "############################\n",
    "#Create temp dataframe\n",
    "df_temp=pd.DataFrame([[time_stamp_temp,machine_temp,os_temp,user_temp,ip_temp]],columns=['time_stamp', 'machine','os', 'user', 'ip'])\n",
    "\n",
    "############################\n",
    "#Append temp dataframe\n",
    "df=df.append(df_temp)\n",
    "df.to_csv(ip_file+'.csv',index_col=0)"
   ]
  },
  {
   "cell_type": "code",
   "execution_count": 8,
   "metadata": {
    "collapsed": false
   },
   "outputs": [],
   "source": [
    "############################\n",
    "#Push file to drive\n",
    "\n",
    "gfile.SetContentFile(ip_file+'.csv')\n",
    "gfile.Upload()"
   ]
  }
 ],
 "metadata": {
  "kernelspec": {
   "display_name": "Python 2",
   "language": "python",
   "name": "python2"
  },
  "language_info": {
   "codemirror_mode": {
    "name": "ipython",
    "version": 2
   },
   "file_extension": ".py",
   "mimetype": "text/x-python",
   "name": "python",
   "nbconvert_exporter": "python",
   "pygments_lexer": "ipython2",
   "version": "2.7.10"
  }
 },
 "nbformat": 4,
 "nbformat_minor": 0
}
